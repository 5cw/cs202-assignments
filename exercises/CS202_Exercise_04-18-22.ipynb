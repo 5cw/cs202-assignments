{
 "cells": [
  {
   "cell_type": "markdown",
   "metadata": {},
   "source": [
    "# CS202: Compiler Construction\n",
    "\n",
    "## In-class Exercises, Week of 04/18/2022\n",
    "\n",
    "----"
   ]
  },
  {
   "cell_type": "markdown",
   "metadata": {},
   "source": [
    "# Part 1: Functions and Lfun"
   ]
  },
  {
   "cell_type": "markdown",
   "metadata": {},
   "source": [
    "## Question 1\n",
    "\n",
    "Write an `Rfun` program with a function called `add1` that adds 1 to its argument, and a call to the function."
   ]
  },
  {
   "cell_type": "markdown",
   "metadata": {},
   "source": [
    "def add1(n: int) -> int:\n",
    "    return n + 1\n",
    "\n",
    "print(add1(100))"
   ]
  },
  {
   "cell_type": "markdown",
   "metadata": {},
   "source": [
    "## Question 2\n",
    "\n",
    "Write a recursive program to calculate the factorial of 5."
   ]
  },
  {
   "cell_type": "markdown",
   "metadata": {},
   "source": [
    "def fact(n: int) -> int:\n",
    "    return fact(n - 1) + fact(n - 2)"
   ]
  },
  {
   "cell_type": "markdown",
   "metadata": {},
   "source": [
    "----"
   ]
  },
  {
   "cell_type": "markdown",
   "metadata": {},
   "source": [
    "# Part 2: Typechecking for Functions"
   ]
  },
  {
   "cell_type": "markdown",
   "metadata": {},
   "source": [
    "## Question 3\n",
    "\n",
    "What is the type of the function `add1`?"
   ]
  },
  {
   "cell_type": "markdown",
   "metadata": {},
   "source": [
    "Callable[[int], int]"
   ]
  },
  {
   "cell_type": "markdown",
   "metadata": {},
   "source": [
    "## Question 4\n",
    "\n",
    "What is the type of the function `*`"
   ]
  },
  {
   "cell_type": "markdown",
   "metadata": {},
   "source": [
    "Callable[[int, int], int]"
   ]
  },
  {
   "cell_type": "markdown",
   "metadata": {},
   "source": [
    "## Question 5\n",
    "\n",
    "Why do we need to specify the types of a function's arguments?"
   ]
  },
  {
   "cell_type": "markdown",
   "metadata": {},
   "source": [
    "when we have ambiguity we need to be able to make a call on what type something is, and we also need to be able to typecheck recursive function calls."
   ]
  },
  {
   "cell_type": "markdown",
   "metadata": {},
   "source": [
    "## Question 6\n",
    "\n",
    "Write a function `length` such that the following expression returns 3:\n",
    "\n",
    "```\n",
    "v = (1, (2, (3, 0)))\n",
    "print(length(v))\n",
    "```"
   ]
  },
  {
   "cell_type": "markdown",
   "metadata": {},
   "source": [
    "def length(tup: List[int]) -> int:\n",
    "    if tup[1] == 0:\n",
    "        return 1\n",
    "    else:\n",
    "        return 1 + length(tup[1])\n",
    "# you cannot write this in Lfun, our types are not expressive enough."
   ]
  },
  {
   "cell_type": "markdown",
   "metadata": {},
   "source": [
    "## Question 7\n",
    "\n",
    "How do we typecheck a function call of the form `f(a1, ..., ak)`"
   ]
  },
  {
   "cell_type": "markdown",
   "metadata": {},
   "source": [
    "check that f has k parameters\n",
    "check that each parameter ti has the type of ai"
   ]
  },
  {
   "cell_type": "markdown",
   "metadata": {},
   "source": [
    "## Question 8\n",
    "\n",
    "How do we typecheck a function definition?"
   ]
  },
  {
   "cell_type": "markdown",
   "metadata": {},
   "source": [
    "We create a new environment from the outer scope with the parameters and their types, then check the statements to make sure the parameter types, any local variable types, and the return type is consistent. Then we return back to the global environment."
   ]
  },
  {
   "cell_type": "markdown",
   "metadata": {},
   "source": [
    "## Question 9\n",
    "\n",
    "How do we typecheck a `Lfun` program?"
   ]
  },
  {
   "cell_type": "markdown",
   "metadata": {},
   "source": [
    "First we find all the functions and their types and add them to the top-level environment\n",
    "Then we typecheck all the function definitions with the knowledge of the other functions\n",
    "Then we typecheck all the top-level statements"
   ]
  },
  {
   "cell_type": "markdown",
   "metadata": {},
   "source": [
    "----"
   ]
  },
  {
   "cell_type": "markdown",
   "metadata": {},
   "source": [
    "# Part 3: Functions in x86 Assembly"
   ]
  },
  {
   "cell_type": "markdown",
   "metadata": {},
   "source": [
    "## Question 10\n",
    "\n",
    "Write an x86 assembly program corresponding to the `add1` program."
   ]
  },
  {
   "cell_type": "code",
   "execution_count": 1,
   "metadata": {},
   "outputs": [
    {
     "name": "stdout",
     "output_type": "stream",
     "text": [
      "============================== STARTING EXECUTION ==============================\n",
      "FINAL STATE:\n",
      "  Location                        Value\n",
      "0  reg rbp                         1000\n",
      "1  reg rsp                         1000\n",
      "2  reg rdi                            5\n",
      "3   reg r8                            6\n",
      "4  reg rax                            6\n",
      "5     add1  FunPointer(fun_name='add1')\n",
      "6     main  FunPointer(fun_name='main')\n",
      "OUTPUT: []\n",
      "============================== FINISHED EXECUTION ==============================\n"
     ]
    },
    {
     "data": {
      "text/plain": "  Location                        Value\n0  reg rbp                         1000\n1  reg rsp                         1000\n2  reg rdi                            5\n3   reg r8                            6\n4  reg rax                            6\n5     add1  FunPointer(fun_name='add1')\n6     main  FunPointer(fun_name='main')",
      "text/html": "<div>\n<style scoped>\n    .dataframe tbody tr th:only-of-type {\n        vertical-align: middle;\n    }\n\n    .dataframe tbody tr th {\n        vertical-align: top;\n    }\n\n    .dataframe thead th {\n        text-align: right;\n    }\n</style>\n<table border=\"1\" class=\"dataframe\">\n  <thead>\n    <tr style=\"text-align: right;\">\n      <th></th>\n      <th>Location</th>\n      <th>Value</th>\n    </tr>\n  </thead>\n  <tbody>\n    <tr>\n      <th>0</th>\n      <td>reg rbp</td>\n      <td>1000</td>\n    </tr>\n    <tr>\n      <th>1</th>\n      <td>reg rsp</td>\n      <td>1000</td>\n    </tr>\n    <tr>\n      <th>2</th>\n      <td>reg rdi</td>\n      <td>5</td>\n    </tr>\n    <tr>\n      <th>3</th>\n      <td>reg r8</td>\n      <td>6</td>\n    </tr>\n    <tr>\n      <th>4</th>\n      <td>reg rax</td>\n      <td>6</td>\n    </tr>\n    <tr>\n      <th>5</th>\n      <td>add1</td>\n      <td>FunPointer(fun_name='add1')</td>\n    </tr>\n    <tr>\n      <th>6</th>\n      <td>main</td>\n      <td>FunPointer(fun_name='main')</td>\n    </tr>\n  </tbody>\n</table>\n</div>"
     },
     "execution_count": 1,
     "metadata": {},
     "output_type": "execute_result"
    }
   ],
   "source": [
    "from cs202_support.eval_x86 import X86Emulator\n",
    "\n",
    "asm = \"\"\"\n",
    "add1:\n",
    "    movq %rdi, %r8\n",
    "    addq $1, %r8\n",
    "    movq %r8, %rax\n",
    "    retq\n",
    "main:\n",
    "    movq $5, %rdi\n",
    "    callq add1\n",
    "\"\"\"\n",
    "\n",
    "emu = X86Emulator(logging=True)\n",
    "emu.eval_program(asm)\n",
    "emu.print_state()"
   ]
  },
  {
   "cell_type": "markdown",
   "metadata": {},
   "source": [
    "## Question 11\n",
    "\n",
    "Describe the *calling convention* we will use for functions in Rfun"
   ]
  },
  {
   "cell_type": "markdown",
   "metadata": {},
   "source": [
    "Arguments go in registers `rdi, rsi, rdx, rcx, r8, r9` in that order\n",
    "If a function has >6 arguments, put arguments 6-n in a tuple and put that in r9\n",
    "Return values go in `rax`\n",
    "Functions should handle their own stack frames, and jump back to the right spot\n"
   ]
  },
  {
   "cell_type": "markdown",
   "metadata": {},
   "source": [
    "## Question 12\n",
    "\n",
    "Describe the management of the *stack* and *root stack* performed on function entry and exit."
   ]
  },
  {
   "cell_type": "markdown",
   "metadata": {},
   "source": [
    "on entry:\n",
    "Allocate new stack frame with enough slots\n",
    "Allocate new root stack frame with enough slots\n",
    "on exit:\n",
    "reclaim the two stack frames\n",
    "retq"
   ]
  },
  {
   "cell_type": "markdown",
   "metadata": {},
   "source": [
    "## Question 13\n",
    "\n",
    "Modify the program from earlier to correctly manage the stack and root stack. Allocate the variable `n` on the stack."
   ]
  },
  {
   "cell_type": "code",
   "execution_count": null,
   "metadata": {},
   "outputs": [],
   "source": [
    "asm = \"\"\"\n",
    "add1_main:\n",
    "    pushq %rbp\n",
    "    movq %rsp, %rbp\n",
    "    subq $16, %rsp\n",
    "    jmp add1_start\n",
    "\n",
    "add1_start:\n",
    "    movq %rdi, -8(%rbp)\n",
    "    addq $1, -8(%rbp)\n",
    "    movq -8(%rbp), %rax\n",
    "    jmp add1_conclusion\n",
    "\n",
    "add1_conclusion:\n",
    "    addq $16, %rsp\n",
    "    popq %rbp\n",
    "    retq\n",
    "\"\"\"\n",
    "\n",
    "emu = X86Emulator(logging=True)\n",
    "emu.eval_program(asm)\n",
    "emu.print_state()"
   ]
  },
  {
   "cell_type": "markdown",
   "metadata": {},
   "source": [
    "## Question 14\n",
    "\n",
    "Modify the program again, to save and restore the *callee-saved registers*."
   ]
  },
  {
   "cell_type": "code",
   "execution_count": null,
   "metadata": {
    "scrolled": true
   },
   "outputs": [],
   "source": [
    "asm = \"\"\"\n",
    "add1_main:\n",
    "    pushq %rbp\n",
    "    movq %rsp, %rbp\n",
    "    pushq %rbx\n",
    "    pushq %r12\n",
    "    pushq %r13\n",
    "    pushq %r14\n",
    "    subq $16, %rsp\n",
    "    jmp add1_start\n",
    "\n",
    "add1_start:\n",
    "    movq %rdi, -8(%rbp)\n",
    "    addq $1, -8(%rbp)\n",
    "    movq -8(%rbp), %rax\n",
    "    jmp add1_conclusion\n",
    "\n",
    "add1_conclusion:\n",
    "    addq $16, %rsp\n",
    "    pushq %r14\n",
    "    pushq %r13\n",
    "    pushq %r12\n",
    "    pushq %rbx\n",
    "    popq %rbp\n",
    "    retq\n",
    "\"\"\"\n",
    "\n",
    "emu = X86Emulator(logging=True)\n",
    "emu.eval_program(asm)\n",
    "emu.print_state()"
   ]
  }
 ],
 "metadata": {
  "kernelspec": {
   "display_name": "Python 3 (ipykernel)",
   "language": "python",
   "name": "python3"
  },
  "language_info": {
   "codemirror_mode": {
    "name": "ipython",
    "version": 3
   },
   "file_extension": ".py",
   "mimetype": "text/x-python",
   "name": "python",
   "nbconvert_exporter": "python",
   "pygments_lexer": "ipython3",
   "version": "3.10.0"
  }
 },
 "nbformat": 4,
 "nbformat_minor": 4
}