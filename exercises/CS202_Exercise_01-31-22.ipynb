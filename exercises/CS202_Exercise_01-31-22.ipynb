{
 "cells": [
  {
   "cell_type": "markdown",
   "metadata": {},
   "source": [
    "# CS202: Compiler Construction\n",
    "\n",
    "## In-class Exercises, Week of 01/31/2022"
   ]
  },
  {
   "cell_type": "markdown",
   "metadata": {},
   "source": [
    "----\n",
    "## Questions from last week"
   ]
  },
  {
   "cell_type": "markdown",
   "metadata": {},
   "source": [
    "## Question 10\n",
    "\n",
    "Convert the following program into A-normal form."
   ]
  },
  {
   "cell_type": "code",
   "execution_count": 45,
   "metadata": {},
   "outputs": [],
   "source": [
    "python = \"\"\"\n",
    "x = 1 + 2 + 3\n",
    "\"\"\""
   ]
  },
  {
   "cell_type": "code",
   "execution_count": 46,
   "metadata": {},
   "outputs": [],
   "source": [
    "python_anf = \"\"\"\n",
    "tmp1 = 2 + 3\n",
    "x = 1 + tmp1\n",
    "\"\"\""
   ]
  },
  {
   "cell_type": "markdown",
   "metadata": {},
   "source": [
    "## Question 11\n",
    "\n",
    "Describe a recursive procedure to perform the *remove-complex-opera* pass. Reference section 2.4 in the textbook."
   ]
  },
  {
   "cell_type": "markdown",
   "metadata": {},
   "source": [
    "I already did this so I'm just going to paste my code here.\n",
    "\n",
    "I did things slightly differently from how the book describes. In the book, rco_exp returns type Tuple[expr, list[Tuple(str, expr)]], but i found it easier to generate the statements within rco_exp and return them directly. It also doesn't describe a mechanism by which to tell expressions that are top level and therefore do not need to be broken down from expressions that are within other expressions and do need to be broken down. I did this by adding a parameter \"top\" to rco_exp which is passed True when called from rco_stmt and False when called from rco_exp. If there's a more elegant solution I couldn't think of it.\n",
    "\n",
    "rco_stmt(statement: stmt) -> list[stmt]:\n",
    "call rco_exp on the subexpression of Expr or Assign with toplevel designated true and return those statements along with the original statement modified to contain the result of rco_exp.\n",
    "\n",
    "rco_exp(exp: expr, top: bool) -> Tuple[list[stmt], expr]:\n",
    "if constant or variable name, return empty list and the atom.\n",
    "otherwise, call rco_exp on all subexpressions with toplevel designated false, replace the subexpressions in exp with the return of rco_exp and add the lists of statements to this call's list of statements.\n",
    "if toplevel is false, then add a temporary assignment to the list of statements and return that with the temporary variable name substituted for exp.\n",
    "\n",
    "call rco_stmt on every statement and return a module with all the lists strung together.\n",
    "\n",
    "\n",
    "def rco(prog: Module) -> Module:\n",
    "    \"\"\"\n",
    "    Removes complex operands. After this pass, the arguments to operators (unary and binary\n",
    "    operators, and function calls like \"print\") will be atomic.\n",
    "    :param prog: An Lvar program\n",
    "    :return: An Lvar program with atomic operator arguments.\n",
    "    \"\"\"\n",
    "\n",
    "    def rco_exp(exp: expr, top: bool) -> Tuple[list[stmt], expr]:\n",
    "        statements = []\n",
    "        match exp:\n",
    "            case Constant(_) | Name(_):\n",
    "                return [], exp\n",
    "            case Call(Name(n), args):\n",
    "                new_args = []\n",
    "                for arg in args:\n",
    "                    new_statements, new_arg = rco_exp(arg, False)\n",
    "                    new_args.append(new_arg)\n",
    "                    statements.extend(new_statements)\n",
    "                exp = Call(Name(n), new_args)\n",
    "            case UnaryOp(op, i):\n",
    "                statements, i = rco_exp(i, False)\n",
    "                exp = UnaryOp(op, i)\n",
    "            case BinOp(left, op, right):\n",
    "                statements, left = rco_exp(left, False)\n",
    "                statements2, right = rco_exp(right, False)\n",
    "                statements.extend(statements2)\n",
    "                exp = BinOp(left, op, right)\n",
    "            case _:\n",
    "                raise Exception(\"rco/rco_exp\")\n",
    "\n",
    "        if not top:\n",
    "            tmp = Name(gensym(\"(tmp)\")) # use parentheses because they are not allowed in normal variable names.\n",
    "            statements.append(Assign([tmp], exp))\n",
    "            exp = tmp\n",
    "        return statements, exp\n",
    "\n",
    "    def rco_stmt(statement: stmt) -> list[stmt]:\n",
    "        match statement:\n",
    "            case Expr(exp):\n",
    "                new_statements, exp = rco_exp(exp, True)\n",
    "                new_statements.append(Expr(exp))\n",
    "            case Assign([var], exp):\n",
    "                new_statements, exp = rco_exp(exp, True)\n",
    "                new_statements.append(Assign([var], exp))\n",
    "            case _:\n",
    "                raise Exception(\"rco\")\n",
    "        return new_statements\n",
    "\n",
    "    new_prog = Module([])\n",
    "    for statement in prog.body:\n",
    "        new_prog.body.extend(rco_stmt(statement))\n",
    "\n",
    "    return new_prog"
   ]
  },
  {
   "cell_type": "markdown",
   "metadata": {},
   "source": []
  },
  {
   "cell_type": "markdown",
   "metadata": {},
   "source": [
    "----\n",
    "# Select-instructions pass\n",
    "\n",
    "The select-instructions pass transforms a sequence of statements into X86 assembly instructions."
   ]
  },
  {
   "cell_type": "markdown",
   "metadata": {},
   "source": [
    "## Question 1\n",
    "\n",
    "Convert the following `Lvar` code into a psuedo-x86 assembly program.\n",
    "\n",
    "```\n",
    "Module([Assign([Name(\"y\")], Constant(5)),\n",
    "        Assign([Name(\"x\")], Name(\"y\")),\n",
    "        Expr(Call(Name(\"print\"), [Name(\"x\")]))\n",
    "])\n",
    "```"
   ]
  },
  {
   "cell_type": "markdown",
   "metadata": {},
   "source": [
    "Program(\n",
    " {\n",
    "  'start':\n",
    "   [\n",
    "    NamedInstr(\n",
    "     \"movq\",\n",
    "     [\n",
    "      Immediate(5),\n",
    "      Var(\"y\")\n",
    "     ]),\n",
    "    NamedInstr(\n",
    "     \"movq\",\n",
    "     [\n",
    "      Var(\"y\"),\n",
    "      Reg(\"rax\")\n",
    "     ]),\n",
    "    NamedInstr(\n",
    "     \"movq\",\n",
    "     [\n",
    "      Reg(\"rax\"),\n",
    "      Var(\"x\")\n",
    "     ]),\n",
    "    NamedInstr(\n",
    "     \"movq\",\n",
    "     [\n",
    "      Var(\"x\"),\n",
    "      Reg(\"rdi\")\n",
    "     ]),\n",
    "    Callq(\"print_int\"),\n",
    "    Jmp(\"conclusion\")\n",
    "   ]\n",
    " })"
   ]
  },
  {
   "cell_type": "markdown",
   "metadata": {},
   "source": [
    "## Question 2\n",
    "\n",
    "Describe the structure of select-instructions."
   ]
  },
  {
   "cell_type": "markdown",
   "metadata": {},
   "source": [
    "select_instructions knows that it's being passed a list of atomic expressions. So it only needs to translate between all the possibilities for an atomic expression and the x86 instructions which correspond.\n",
    "\n",
    "atom_to_arg(exp: expr) -> x86.Arg:\n",
    "turns constants into immediates, and named variables into x86var Vars\n",
    "\n",
    "def translate_expression(expression: expr) -> list[x86.Instr]:\n",
    "matches all possibilities with the required x86 to put the correct return value of the expr into rax.\n",
    "\n",
    "translate_statement(statement: stmt) -> list[x86.Instr]:\n",
    "if stmt is Expr, return translate_expression of the expr inside.\n",
    "if stmt is Assign, add an instruction to move rax into the variable name\n",
    "\n",
    "for every statement, call translate_statement and return all the instructions strung together.\n",
    "\n",
    "\n",
    "def select_instructions(prog: Module) -> x86.Program:\n",
    "    \"\"\"\n",
    "    Transforms a Lvar program into a pseudo-x86 assembly program.\n",
    "    :param prog: a Lvar program\n",
    "    :return: a pseudo-x86 program\n",
    "    \"\"\"\n",
    "\n",
    "    valid_calls = {\n",
    "        'print': {\n",
    "            'name': 'print_int',\n",
    "            'args': 1,\n",
    "        },\n",
    "        'input_int': {\n",
    "            'name': 'read_int',\n",
    "            'args': 0,\n",
    "        }\n",
    "    }\n",
    "\n",
    "    def atom_to_arg(exp: expr) -> x86.Arg:\n",
    "        match exp:\n",
    "            case Constant(i):\n",
    "                return x86.Immediate(i)\n",
    "            case Name(n):\n",
    "                return x86.Var(n)\n",
    "            case _:\n",
    "                raise Exception(\"select_instructions/atom_to_arg\")\n",
    "\n",
    "    def translate_expression(expression: expr) -> list[x86.Instr]:\n",
    "\n",
    "        def move_to_rax(exp: expr) -> x86.Instr:\n",
    "            return x86.NamedInstr(\"movq\",\n",
    "                                  [atom_to_arg(exp), x86.Reg(\"rax\")]\n",
    "                                  )\n",
    "\n",
    "        instructions = []\n",
    "        match expression:\n",
    "            case Call(Name(name), args):\n",
    "                if name not in valid_calls.keys() or \\\n",
    "                        len(args) != valid_calls[name]['args']:\n",
    "                    raise Exception(\"select_instructions/call_builtin\")\n",
    "                if len(args) == 1:\n",
    "                    instructions.append(x86.NamedInstr(\"movq\", [atom_to_arg(args[0]), x86.Reg(\"rdi\")]))\n",
    "                instructions.append(x86.Callq(valid_calls[name][\"name\"]))\n",
    "                return instructions\n",
    "            case UnaryOp(op, exp):\n",
    "                match op:\n",
    "                    case USub():\n",
    "                        instructions = [\n",
    "                            move_to_rax(exp),\n",
    "                            x86.NamedInstr(\"negq\",\n",
    "                                           [x86.Reg(\"rax\")]\n",
    "                                           )\n",
    "                        ]\n",
    "                    case _:\n",
    "                        raise Exception('select_instructions/unary_operation')\n",
    "            case BinOp(left, op, right):\n",
    "                match op:\n",
    "                    case Add():\n",
    "                        instr_name = \"addq\"\n",
    "                    case Sub():\n",
    "                        instr_name = \"subq\"\n",
    "                    case _:\n",
    "                        raise Exception('select_instructions/binary_operation')\n",
    "                return [\n",
    "                    move_to_rax(left),\n",
    "                    x86.NamedInstr(instr_name,\n",
    "                                   [atom_to_arg(right), x86.Reg(\"rax\")]\n",
    "                                   )\n",
    "                ]\n",
    "            case Constant(_) | Name(_):\n",
    "                return [\n",
    "                    move_to_rax(expression)\n",
    "                ]\n",
    "            case _:\n",
    "                raise Exception(\"select_instructions\")\n",
    "\n",
    "    def translate_statement(statement: stmt) -> list[x86.Instr]:\n",
    "        match statement:\n",
    "            case Expr(exp):\n",
    "                return translate_expression(exp)\n",
    "            case Assign([Name(n)], exp):\n",
    "                instructions = translate_expression(exp)\n",
    "                match instructions:\n",
    "                    case [x86.NamedInstr(\"movq\", [x86.Immediate(i), x86.Reg(\"rax\")])]:\n",
    "                        return [x86.NamedInstr(\"movq\",\n",
    "                                               [x86.Immediate(i), atom_to_arg(Name(n))]\n",
    "                                               )\n",
    "                                ]\n",
    "                    case _:\n",
    "                        instructions.append(\n",
    "                            x86.NamedInstr(\"movq\",\n",
    "                                           [x86.Reg(\"rax\"), atom_to_arg(Name(n))]\n",
    "                                           )\n",
    "                        )\n",
    "                        return instructions\n",
    "            case _:\n",
    "                raise Exception(\"select_instructions/translate_statement\")\n",
    "\n",
    "    instructions : list[x86.Instr] = []\n",
    "    for statement in prog.body:\n",
    "        instructions.extend(translate_statement(statement))\n",
    "    instructions.append(x86.Jmp(\"conclusion\"))\n",
    "\n",
    "    return x86.Program({\n",
    "        \"start\": instructions\n",
    "    })\n"
   ]
  },
  {
   "cell_type": "markdown",
   "metadata": {},
   "source": [
    "----\n",
    "# Assign-homes pass"
   ]
  },
  {
   "cell_type": "markdown",
   "metadata": {},
   "source": [
    "The assign-homes pass places each program variable in a *stack location* in memory, eliminating variables from the program.\n",
    "\n",
    "See Section 2.2 for details; especially see Figure 2.8 for details on the memory layout of stack frames."
   ]
  },
  {
   "cell_type": "markdown",
   "metadata": {},
   "source": [
    "## Question 3\n",
    "\n",
    "Write X86 assembly that prepares a stack frame for four variables and puts the values 1,2,3,4 in stack locations."
   ]
  },
  {
   "cell_type": "code",
   "execution_count": 3,
   "metadata": {},
   "outputs": [
    {
     "data": {
      "text/plain": "  Location     Old   New\n0  mem 992     NaN  1000\n1  mem 984     NaN     1\n2  mem 976     NaN     2\n3  mem 968     NaN     3\n4  mem 960     NaN     4\n5  reg rbp  1000.0   992\n6  reg rsp  1000.0   960",
      "text/html": "<div>\n<style scoped>\n    .dataframe tbody tr th:only-of-type {\n        vertical-align: middle;\n    }\n\n    .dataframe tbody tr th {\n        vertical-align: top;\n    }\n\n    .dataframe thead th {\n        text-align: right;\n    }\n</style>\n<table border=\"1\" class=\"dataframe\">\n  <thead>\n    <tr style=\"text-align: right;\">\n      <th></th>\n      <th>Location</th>\n      <th>Old</th>\n      <th>New</th>\n    </tr>\n  </thead>\n  <tbody>\n    <tr>\n      <th>0</th>\n      <td>mem 992</td>\n      <td>NaN</td>\n      <td>1000</td>\n    </tr>\n    <tr>\n      <th>1</th>\n      <td>mem 984</td>\n      <td>NaN</td>\n      <td>1</td>\n    </tr>\n    <tr>\n      <th>2</th>\n      <td>mem 976</td>\n      <td>NaN</td>\n      <td>2</td>\n    </tr>\n    <tr>\n      <th>3</th>\n      <td>mem 968</td>\n      <td>NaN</td>\n      <td>3</td>\n    </tr>\n    <tr>\n      <th>4</th>\n      <td>mem 960</td>\n      <td>NaN</td>\n      <td>4</td>\n    </tr>\n    <tr>\n      <th>5</th>\n      <td>reg rbp</td>\n      <td>1000.0</td>\n      <td>992</td>\n    </tr>\n    <tr>\n      <th>6</th>\n      <td>reg rsp</td>\n      <td>1000.0</td>\n      <td>960</td>\n    </tr>\n  </tbody>\n</table>\n</div>"
     },
     "execution_count": 3,
     "metadata": {},
     "output_type": "execute_result"
    }
   ],
   "source": [
    "from cs202_support.eval_x86 import X86Emulator\n",
    "\n",
    "asm = \"\"\"\n",
    "    pushq %rbp\n",
    "    movq %rsp, %rbp\n",
    "    subq $32, %rsp\n",
    "    movq $1, -8(%rbp)\n",
    "    movq $2, -16(%rbp)\n",
    "    movq $3, -24(%rbp)\n",
    "    movq $4, -32(%rbp)\n",
    "\n",
    "\"\"\"\n",
    "\n",
    "X86Emulator(logging=False).eval_instructions(asm)"
   ]
  },
  {
   "cell_type": "markdown",
   "metadata": {},
   "source": [
    "## Question 4\n",
    "\n",
    "Write X86 assembly that prepares a stack frame for three variables and puts the values 1,2,3 in stack locations. Why is this situation different than above?"
   ]
  },
  {
   "cell_type": "code",
   "execution_count": 6,
   "metadata": {},
   "outputs": [
    {
     "data": {
      "text/plain": "  Location     Old   New\n0  mem 992     NaN  1000\n1  mem 984     NaN     1\n2  mem 976     NaN     2\n3  mem 968     NaN     3\n4  reg rbp  1000.0   992\n5  reg rsp  1000.0   968",
      "text/html": "<div>\n<style scoped>\n    .dataframe tbody tr th:only-of-type {\n        vertical-align: middle;\n    }\n\n    .dataframe tbody tr th {\n        vertical-align: top;\n    }\n\n    .dataframe thead th {\n        text-align: right;\n    }\n</style>\n<table border=\"1\" class=\"dataframe\">\n  <thead>\n    <tr style=\"text-align: right;\">\n      <th></th>\n      <th>Location</th>\n      <th>Old</th>\n      <th>New</th>\n    </tr>\n  </thead>\n  <tbody>\n    <tr>\n      <th>0</th>\n      <td>mem 992</td>\n      <td>NaN</td>\n      <td>1000</td>\n    </tr>\n    <tr>\n      <th>1</th>\n      <td>mem 984</td>\n      <td>NaN</td>\n      <td>1</td>\n    </tr>\n    <tr>\n      <th>2</th>\n      <td>mem 976</td>\n      <td>NaN</td>\n      <td>2</td>\n    </tr>\n    <tr>\n      <th>3</th>\n      <td>mem 968</td>\n      <td>NaN</td>\n      <td>3</td>\n    </tr>\n    <tr>\n      <th>4</th>\n      <td>reg rbp</td>\n      <td>1000.0</td>\n      <td>992</td>\n    </tr>\n    <tr>\n      <th>5</th>\n      <td>reg rsp</td>\n      <td>1000.0</td>\n      <td>968</td>\n    </tr>\n  </tbody>\n</table>\n</div>"
     },
     "execution_count": 6,
     "metadata": {},
     "output_type": "execute_result"
    }
   ],
   "source": [
    "asm = \"\"\"\n",
    "pushq %rbp\n",
    "    movq %rsp, %rbp\n",
    "    subq $24, %rsp\n",
    "    movq $1, -8(%rbp)\n",
    "    movq $2, -16(%rbp)\n",
    "    movq $3, -24(%rbp)\n",
    "\"\"\"\n",
    "\n",
    "X86Emulator(logging=False).eval_instructions(asm)"
   ]
  },
  {
   "cell_type": "markdown",
   "metadata": {},
   "source": [
    "YOUR SOLUTION HERE\n",
    "We're violating x86 standardization by allocating memory not in multiples of 16 bytes."
   ]
  },
  {
   "cell_type": "markdown",
   "metadata": {},
   "source": [
    "## Question 5\n",
    "\n",
    "Implement a function `align` to ensure 16-byte alignment."
   ]
  },
  {
   "cell_type": "code",
   "execution_count": 7,
   "metadata": {},
   "outputs": [
    {
     "name": "stdout",
     "output_type": "stream",
     "text": [
      "32\n",
      "16\n",
      "32\n"
     ]
    }
   ],
   "source": [
    "def align(num_bytes: int) -> int:\n",
    "    return num_bytes if num_bytes % 16 == 0 else num_bytes + 8\n",
    "\n",
    "print(align(32))\n",
    "print(align(8))\n",
    "print(align(24))"
   ]
  },
  {
   "cell_type": "markdown",
   "metadata": {},
   "source": [
    "## Question 6\n",
    "\n",
    "Describe the assign-homes pass."
   ]
  },
  {
   "cell_type": "markdown",
   "metadata": {},
   "source": [
    "YOUR SOLUTION HERE\n",
    "\n",
    "global variable vars contains a mapping from string variable names to offsets, as well as the number of variables allocated.\n",
    "\n",
    "replace_var(var: x86.Arg) -> x86.Arg:\n",
    "    if not a variable, return the input.\n",
    "    if var name is in vars, return an x86 deref of the stack pointer offset by the value in vars,\n",
    "    else, add one to vars[\"(num_vars)\"], add the var name with that * 8 to vars, and return  an x86 deref.\n",
    "\n",
    "replace_instr(instruction: x86.Instr) -> x86.Instr:\n",
    "    for all the arguments of the instruction, replace them with replace_var and return the modified instruction\n",
    "\n",
    "run replace instruction on every instruction, return the modified list of instructions along with vars[\"(num_vars)\"] * 8 16-byte aligned.\n",
    "\n",
    "\n",
    "\n",
    "def assign_homes(program: x86.Program) -> Tuple[x86.Program, int]:\n",
    "    \"\"\"\n",
    "    Assigns homes to variables in the input program. Allocates a stack location for each\n",
    "    variable in the program.\n",
    "    :param program: An x86 program.\n",
    "    :return: A Tuple. The first element is an x86 program (with no variable references).\n",
    "    The second element is the number of bytes needed in stack locations.\n",
    "    \"\"\"\n",
    "    vars = {\n",
    "        \"(num_vars)\": 0\n",
    "    }\n",
    "\n",
    "    def replace_var(var: x86.Arg) -> x86.Arg:\n",
    "        match var:\n",
    "            case x86.Var(name):\n",
    "                if name not in vars.keys():\n",
    "                    vars[\"(num_vars)\"] += 1\n",
    "                    vars[name] = vars[\"(num_vars)\"] * -8\n",
    "                return x86.Deref(\"rbp\", vars[name])\n",
    "            case _:\n",
    "                return var\n",
    "\n",
    "    def replace_instr(instruction: x86.Instr) -> x86.Instr:\n",
    "        match instruction:\n",
    "            case x86.NamedInstr(name, args):\n",
    "                return x86.NamedInstr(name, [replace_var(arg) for arg in args])\n",
    "            case _:\n",
    "                return instruction\n",
    "\n",
    "    new_instructions = []\n",
    "    match program:\n",
    "        case x86.Program({\"start\": instructions}):\n",
    "            for instruction in instructions:\n",
    "                new_instructions.append(replace_instr(instruction))\n",
    "\n",
    "    def calc_stack(num_vars: int) -> int:\n",
    "        return (num_vars if num_vars % 2 == 0 else num_vars + 1) * 8\n",
    "\n",
    "    return x86.Program({\n",
    "        \"start\": new_instructions\n",
    "    }), calc_stack(vars[\"(num_vars)\"])\n",
    "\n"
   ]
  },
  {
   "cell_type": "markdown",
   "metadata": {},
   "source": [
    "----\n",
    "# Patch-instructions pass"
   ]
  },
  {
   "cell_type": "markdown",
   "metadata": {},
   "source": [
    "The patch-instructions pass fixes instructions with two in-memory arguments, by using the `rax` register as a temporary location."
   ]
  },
  {
   "cell_type": "markdown",
   "metadata": {},
   "source": [
    "## Question 7\n",
    "\n",
    "What is wrong with the following instructions?\n",
    "\n",
    "```\n",
    "movq -8(%rbp), -16(%rbp)\n",
    "addq -24(%rbp), -16(%rbp)\n",
    "```"
   ]
  },
  {
   "cell_type": "markdown",
   "metadata": {},
   "source": [
    "YOUR SOLUTION HERE\n",
    "it's illegal in x86 to move memory from the stack directly to the stack."
   ]
  },
  {
   "cell_type": "markdown",
   "metadata": {},
   "source": [
    "## Question 8\n",
    "\n",
    "Fix the instructions above."
   ]
  },
  {
   "cell_type": "markdown",
   "metadata": {},
   "source": [
    "movq -8(%rbp), %rax\n",
    "addq -24(%rbp), %rax\n",
    "movq %rax, -16(%rbp)"
   ]
  },
  {
   "cell_type": "markdown",
   "metadata": {},
   "source": [
    "## Question 9\n",
    "\n",
    "Describe the patch-instructions pass."
   ]
  },
  {
   "cell_type": "markdown",
   "metadata": {},
   "source": [
    "patch_instruction(instruction: x86.Instr) -> [x86.Instr]:\n",
    "    if the instruction is a NamedInstr with two derefs from the stack as arguments,\n",
    "    first move the left deref into rax, then perform the namedinstr on rax with the right deref, then move the result back into the left deref.\n",
    "\n",
    "return the results of patch_instruction for every instruction.\n",
    "\n",
    "I think the way I set up select_instructions this pass isn't needed, so I'm not 100% confident it works\n",
    "\n",
    "def patch_instructions(inputs: Tuple[x86.Program, int]) -> Tuple[x86.Program, int]:\n",
    "    \"\"\"\n",
    "    Patches instructions with two memory location inputs, using %rax as a temporary location.\n",
    "    :param inputs: A Tuple. The first element is an x86 program. The second element is the\n",
    "    stack space in bytes.\n",
    "    :return: A Tuple. The first element is the patched x86 program. The second element is\n",
    "    the stack space in bytes.\n",
    "    \"\"\"\n",
    "\n",
    "    def patch_instruction(instruction: x86.Instr) -> [x86.Instr]:\n",
    "        match instruction:\n",
    "            case x86.NamedInstr(name, [x86.Deref(\"rbp\", off1), x86.Deref(\"rbp\", off2)]):\n",
    "                return [\n",
    "                    x86.NamedInstr(\"movq\", [x86.Deref(\"rbp\", off1), x86.Reg(\"rax\")]),\n",
    "                    x86.NamedInstr(name, [x86.Reg(\"rax\"), x86.Deref(\"rbp\", off2)]),\n",
    "                    x86.NamedInstr(\"movq\", [x86.Reg(\"rax\"), x86.Deref(\"rbp\", off1)])\n",
    "                ]\n",
    "            case _:\n",
    "                return [instruction]\n",
    "\n",
    "    new_instructions = []\n",
    "    match inputs[0]:\n",
    "        case x86.Program({\"start\": instructions}):\n",
    "            for instruction in instructions:\n",
    "                new_instructions.extend(patch_instruction(instruction))\n",
    "\n",
    "    return x86.Program({\n",
    "        \"start\": new_instructions\n",
    "    }), inputs[1]"
   ]
  }
 ],
 "metadata": {
  "kernelspec": {
   "display_name": "Python 3 (ipykernel)",
   "language": "python",
   "name": "python3"
  },
  "language_info": {
   "codemirror_mode": {
    "name": "ipython",
    "version": 3
   },
   "file_extension": ".py",
   "mimetype": "text/x-python",
   "name": "python",
   "nbconvert_exporter": "python",
   "pygments_lexer": "ipython3",
   "version": "3.10.0"
  }
 },
 "nbformat": 4,
 "nbformat_minor": 2
}